{
  "cells": [
    {
      "cell_type": "code",
      "source": [
        "import numpy as np\n",
        "import matplotlib.pyplot as plt\n",
        "import seaborn as sns\n",
        "\n",
        "sns.set_style('white')\n",
        "sns.set_color_codes('pastel')\n",
        "\n%matplotlib inline"
      ],
      "outputs": [],
      "execution_count": 1,
      "metadata": {
        "collapsed": false,
        "outputHidden": false,
        "inputHidden": false,
        "outputExpanded": false
      }
    },
    {
      "cell_type": "code",
      "source": [
        "from sklearn.metrics import r2_score, mean_absolute_error\n",
        "from sklearn.metrics import make_scorer, f1_score\n",
        "from sklearn.metrics import classification_report, confusion_matrix\n",
        "\n",
        "from sklearn.datasets import make_classification, make_regression\n",
        "from sklearn.datasets import load_boston, load_iris, make_moons\n",
        "\n",
        "from sklearn.linear_model import Ridge, LogisticRegression\n",
        "from sklearn.svm import LinearSVC, LinearSVR\n",
        "from sklearn.ensemble import RandomForestClassifier, RandomForestRegressor\n",
        "from sklearn.neighbors import KNeighborsClassifier, KNeighborsRegressor\n",
        "\n",
        "from sklearn.model_selection import train_test_split, cross_val_score\n",
        "from sklearn.model_selection import KFold, StratifiedKFold\n",
        "\n",
        "from sklearn.preprocessing import StandardScaler\n",
        "from sklearn.base import BaseEstimator, TransformerMixin\n",
        "\n",
        "from sklearn.linear_model import LinearRegression, LogisticRegression\n",
        "\n",
        "from sklearn.utils import shuffle\n",
        "\n",
        "import warnings\n",
        "warnings.filterwarnings('ignore')"
      ],
      "outputs": [],
      "execution_count": 2,
      "metadata": {
        "collapsed": false,
        "outputHidden": false,
        "inputHidden": false
      }
    },
    {
      "cell_type": "code",
      "source": [
        "class IdentityScaler(TransformerMixin):\n",
        "    def __init__(self):\n",
        "        pass\n",
        "    \n",
        "    def fit(self, X):\n",
        "        return self\n",
        "    \n",
        "    def transform(self, X):\n",
        "        return X\n",
        "    \n",
        "    def fit_transform(self, X):\n",
        "        return self.fit(X).transform(X)\n",
        "    \n",
        "    def inverse_transform(self, X):\n",
        "        return X"
      ],
      "outputs": [],
      "execution_count": 3,
      "metadata": {
        "collapsed": false,
        "outputHidden": false,
        "inputHidden": false
      }
    },
    {
      "cell_type": "code",
      "source": [
        "class FlowMachine(BaseEstimator):\n",
        "    \n",
        "    def __init__(self, top=None, theta=0.5,\n",
        "                 normalize=False, random_state=None):\n",
        "        self.norm = np.linalg.norm\n",
        "        self.top = top\n",
        "        self.normalize = normalize\n",
        "        self.random_state = random_state\n",
        "        self.x_scaler = StandardScaler() if normalize else IdentityScaler()\n",
        "        self.y_scaler = StandardScaler() if normalize else IdentityScaler()\n",
        "        self.theta = theta\n",
        "        \n",
        "    def choice(self, X):\n",
        "        count = int(self.theta * len(X))\n",
        "        shuffled = shuffle(\n",
        "            X, random_state=self.random_state\n",
        "        )\n",
        "        return shuffled[:count]\n",
        "    \n",
        "    def unit(self, vector):\n",
        "        normed = self.norm(vector)\n",
        "        if not np.allclose(normed, 0):\n",
        "            return np.asarray(vector) / normed\n",
        "        return np.inf\n",
        "    \n",
        "    def construct(self, points):\n",
        "        dimension = len(points[0])\n",
        "        codimension = len(points[0]) - 1\n",
        "        hyperplanes = []\n",
        "        distances = []\n",
        "        for index in range(len(points) - 1):\n",
        "            distances.append((\n",
        "                self.norm(points[index + 1] - points[index]),\n",
        "                points[index] # store original point\n",
        "            ))\n",
        "        distances = sorted(distances, key=lambda value: value[0])\n",
        "        for index in range(0, len(distances), dimension):\n",
        "            if index + dimension >= len(distances):\n",
        "                continue\n",
        "            total = np.asarray([\n",
        "                data[1] for data in distances[index:index+dimension]\n",
        "            ])\n",
        "            try:\n",
        "                normal = np.linalg.solve(\n",
        "                    total, np.ones(shape=(dimension, 1))\n",
        "                ).ravel()\n",
        "            except:\n",
        "                # skip singular matrices\n",
        "                continue\n",
        "            normal = self.unit(normal)\n",
        "            hyperplanes.append((\n",
        "                normal,\n",
        "                distances[index][1] # store one point of hyperplane\n",
        "            ))\n",
        "        self.hyperplanes = hyperplanes\n",
        "    \n",
        "    def distance(self, hyperplane, point):\n",
        "        return np.abs(np.dot((point - hyperplane[1]), hyperplane[0]))\n",
        "    \n",
        "    def fit(self, X, y):\n",
        "        X = np.copy(X)\n",
        "        X = self.x_scaler.fit_transform(X)\n",
        "        \n",
        "        y = np.copy(y).reshape(-1, 1)\n",
        "        y = self.y_scaler.fit_transform(y).flatten()\n",
        "        \n",
        "        self.construct(self.choice(X))\n",
        "        \n",
        "        vectors = self.compute(X)\n",
        "        self.top.fit(vectors, y)\n",
        "        \n",
        "        return self\n",
        "    \n",
        "    def compute(self, X):\n",
        "        vectors = []\n",
        "        for x in X:\n",
        "            vector = []\n",
        "            for hyperplane in self.hyperplanes:\n",
        "                vector.append(self.distance(hyperplane, x))\n",
        "            vectors.append(vector)\n",
        "        return np.asarray(vectors)\n",
        "    \n",
        "    def predict(self, X):\n",
        "        result = []\n",
        "        X = self.x_scaler.transform(np.copy(X))\n",
        "        \n",
        "        return self.y_scaler.inverse_transform(\n",
        "            self.top.predict(self.compute(X)).reshape(-1, 1)\n",
        "        ).flatten()\n",
        "    \n",
        "    def score(self, X, y):\n",
        "        return self.top.score(\n",
        "            self.compute(self.x_scaler.transform(X)),\n",
        "            y.reshape(-1, 1)\n",
        "        )"
      ],
      "outputs": [],
      "execution_count": 4,
      "metadata": {
        "collapsed": false,
        "outputHidden": false,
        "inputHidden": false,
        "outputExpanded": false
      }
    },
    {
      "cell_type": "code",
      "source": [
        "folds = 5\n",
        "state = 1"
      ],
      "outputs": [],
      "execution_count": 5,
      "metadata": {
        "collapsed": false,
        "outputHidden": false,
        "inputHidden": false
      }
    },
    {
      "cell_type": "code",
      "source": [
        "iris_data = load_iris()\n",
        "boston_data = load_boston()\n",
        "\n",
        "train_cX, test_cX, train_cy, test_cy = train_test_split(\n",
        "    iris_data.data,\n",
        "    iris_data.target,\n",
        "    test_size=0.3,\n",
        "    random_state=state\n",
        ")\n",
        "\n",
        "train_rX, test_rX, train_ry, test_ry = train_test_split(\n",
        "    boston_data.data,\n",
        "    boston_data.target,\n",
        "    test_size=0.3,\n",
        "    random_state=state\n",
        ")"
      ],
      "outputs": [],
      "execution_count": 6,
      "metadata": {
        "collapsed": false,
        "outputHidden": false,
        "inputHidden": false,
        "outputExpanded": false
      }
    },
    {
      "cell_type": "code",
      "source": [
        "%%time\n",
        "\n",
        "c_pred = FlowMachine(LogisticRegression(\n",
        "    solver='lbfgs', multi_class='ovr'\n",
        ")).fit(\n",
        "    train_cX, train_cy\n",
        ").predict(test_cX)\n",
        "\n",
        "r_pred = FlowMachine(LinearRegression(), random_state=1).fit(\n",
        "    train_rX, train_ry\n",
        ").predict(test_rX)"
      ],
      "outputs": [
        {
          "output_type": "stream",
          "name": "stdout",
          "text": [
            "CPU times: user 96 ms, sys: 4 ms, total: 100 ms\n",
            "Wall time: 220 ms\n"
          ]
        }
      ],
      "execution_count": 7,
      "metadata": {
        "collapsed": false,
        "outputHidden": false,
        "inputHidden": false,
        "outputExpanded": false
      }
    },
    {
      "cell_type": "code",
      "source": [
        "%%time\n",
        "\n",
        "r_base = Ridge(random_state=state).fit(\n",
        "    train_rX, train_ry\n",
        ").predict(test_rX)\n",
        "\n",
        "c_base = LogisticRegression(\n",
        "    solver='lbfgs', multi_class='ovr', random_state=state\n",
        ").fit(\n",
        "    train_cX, train_cy\n",
        ").predict(test_cX)"
      ],
      "outputs": [
        {
          "output_type": "stream",
          "name": "stdout",
          "text": [
            "CPU times: user 52 ms, sys: 4 ms, total: 56 ms\n",
            "Wall time: 103 ms\n"
          ]
        }
      ],
      "execution_count": 8,
      "metadata": {
        "collapsed": false,
        "outputHidden": false,
        "inputHidden": false,
        "outputExpanded": false
      }
    },
    {
      "cell_type": "code",
      "source": [
        "print(\"Regression MAE: %.3f, R2: %.3f\" % (\n",
        "    mean_absolute_error(test_ry, r_pred),\n",
        "    r2_score(test_ry, r_pred)\n",
        "))\n",
        "\n",
        "print(\"Base MAE: %.3f, R2: %.3f\" % (\n",
        "    mean_absolute_error(test_ry, r_base),\n",
        "    r2_score(test_ry, r_base)\n",
        "))"
      ],
      "outputs": [
        {
          "output_type": "stream",
          "name": "stdout",
          "text": [
            "Regression MAE: 5.901, R2: 0.255\n",
            "Base MAE: 3.289, R2: 0.789\n"
          ]
        }
      ],
      "execution_count": 9,
      "metadata": {
        "collapsed": false,
        "outputHidden": false,
        "inputHidden": false,
        "outputExpanded": false
      }
    },
    {
      "cell_type": "code",
      "source": [
        "sns.distplot(test_ry);\n",
        "sns.distplot(r_pred);"
      ],
      "outputs": [
        {
          "output_type": "display_data",
          "data": {
            "text/plain": [
              "<Figure size 432x288 with 1 Axes>"
            ],
            "image/png": "[encoded data removed]"
          },
          "metadata": {
            "needs_background": "light"
          }
        }
      ],
      "execution_count": 10,
      "metadata": {
        "collapsed": false,
        "outputHidden": false,
        "inputHidden": false,
        "outputExpanded": false
      }
    },
    {
      "cell_type": "code",
      "source": [
        "print(confusion_matrix(test_cy, c_pred))\n",
        "print(confusion_matrix(test_cy, c_base))"
      ],
      "outputs": [
        {
          "output_type": "stream",
          "name": "stdout",
          "text": [
            "[[14  0  0]\n",
            " [ 0 15  3]\n",
            " [ 0  0 13]]\n",
            "[[14  0  0]\n",
            " [ 0 13  5]\n",
            " [ 0  1 12]]\n"
          ]
        }
      ],
      "execution_count": 11,
      "metadata": {
        "collapsed": false,
        "outputHidden": false,
        "inputHidden": false,
        "outputExpanded": false
      }
    },
    {
      "cell_type": "code",
      "source": [
        "print(classification_report(test_cy, c_pred))\n",
        "print(classification_report(test_cy, c_base))"
      ],
      "outputs": [
        {
          "output_type": "stream",
          "name": "stdout",
          "text": [
            "              precision    recall  f1-score   support\n",
            "\n",
            "           0       1.00      1.00      1.00        14\n",
            "           1       1.00      0.83      0.91        18\n",
            "           2       0.81      1.00      0.90        13\n",
            "\n",
            "   micro avg       0.93      0.93      0.93        45\n",
            "   macro avg       0.94      0.94      0.94        45\n",
            "weighted avg       0.95      0.93      0.93        45\n",
            "\n",
            "              precision    recall  f1-score   support\n",
            "\n",
            "           0       1.00      1.00      1.00        14\n",
            "           1       0.93      0.72      0.81        18\n",
            "           2       0.71      0.92      0.80        13\n",
            "\n",
            "   micro avg       0.87      0.87      0.87        45\n",
            "   macro avg       0.88      0.88      0.87        45\n",
            "weighted avg       0.89      0.87      0.87        45\n",
            "\n"
          ]
        }
      ],
      "execution_count": 12,
      "metadata": {
        "collapsed": false,
        "outputHidden": false,
        "inputHidden": false,
        "outputExpanded": false
      }
    },
    {
      "cell_type": "markdown",
      "source": [
        "## Second part\n",
        "Synthetic datasets with cross-validation."
      ],
      "metadata": {}
    },
    {
      "cell_type": "code",
      "source": [
        "def check_regressors(X, y):\n",
        "    for regressor in [\n",
        "        FlowMachine(LinearRegression(), random_state=state),\n",
        "        Ridge(random_state=state),\n",
        "        LinearSVR(random_state=state),\n",
        "        RandomForestRegressor(random_state=state),\n",
        "        KNeighborsRegressor()\n",
        "    ]:\n",
        "        scores = cross_val_score(\n",
        "            regressor,\n",
        "            X=X, y=y,\n",
        "            cv=KFold(folds)\n",
        "        )\n",
        "        \n",
        "        print(type(regressor).__name__, \"%.4f\" % scores.mean())"
      ],
      "outputs": [],
      "execution_count": 13,
      "metadata": {
        "collapsed": false,
        "outputHidden": false,
        "inputHidden": false
      }
    },
    {
      "cell_type": "code",
      "source": [
        "rX, ry = make_regression(\n",
        "    n_samples=2000,\n",
        "    n_features=20,\n",
        "    n_informative=4,\n",
        "    noise=50.,\n",
        "    random_state=state\n",
        ")\n",
        "\ncheck_regressors(rX, ry)"
      ],
      "outputs": [
        {
          "output_type": "stream",
          "name": "stdout",
          "text": [
            "FlowMachine 0.0736\n",
            "Ridge 0.7927\n",
            "LinearSVR 0.7884\n",
            "RandomForestRegressor 0.6842\n",
            "KNeighborsRegressor 0.4493\n"
          ]
        }
      ],
      "execution_count": 14,
      "metadata": {
        "collapsed": false,
        "outputHidden": false,
        "inputHidden": false
      }
    },
    {
      "cell_type": "code",
      "source": [
        "rX, ry = make_regression(\n",
        "    n_samples=500,\n",
        "    n_features=10,\n",
        "    n_informative=8,\n",
        "    noise=150.,\n",
        "    random_state=state\n",
        ")\n",
        "\ncheck_regressors(rX, ry)"
      ],
      "outputs": [
        {
          "output_type": "stream",
          "name": "stdout",
          "text": [
            "FlowMachine 0.1363\n",
            "Ridge 0.4442\n",
            "LinearSVR 0.3862\n",
            "RandomForestRegressor 0.3472\n",
            "KNeighborsRegressor 0.2961\n"
          ]
        }
      ],
      "execution_count": 15,
      "metadata": {
        "collapsed": false,
        "outputHidden": false,
        "inputHidden": false
      }
    },
    {
      "cell_type": "code",
      "source": [
        "rX, ry = make_regression(\n",
        "    n_samples=500,\n",
        "    n_features=4,\n",
        "    n_informative=4,\n",
        "    noise=1.,\n",
        "    random_state=state\n",
        ")\n",
        "\n",
        "ry = np.sin(np.log(1 + ry**2))\n",
        "\ncheck_regressors(rX, ry)"
      ],
      "outputs": [
        {
          "output_type": "stream",
          "name": "stdout",
          "text": [
            "FlowMachine 0.3632\n",
            "Ridge -0.0351\n",
            "LinearSVR -0.0900\n",
            "RandomForestRegressor 0.3078\n",
            "KNeighborsRegressor 0.4079\n"
          ]
        }
      ],
      "execution_count": 16,
      "metadata": {
        "collapsed": false,
        "outputHidden": false,
        "inputHidden": false
      }
    },
    {
      "cell_type": "code",
      "source": [
        "def check_classifiers(X, y):\n",
        "    for classifier in [\n",
        "        FlowMachine(\n",
        "            LogisticRegression(solver='lbfgs', multi_class='ovr'),\n",
        "            random_state=state\n",
        "        ),\n",
        "        LogisticRegression(random_state=state),\n",
        "        LinearSVC(random_state=state),\n",
        "        RandomForestClassifier(random_state=state),\n",
        "        KNeighborsClassifier()\n",
        "    ]:\n",
        "        scores = cross_val_score(\n",
        "            classifier,\n",
        "            X=X, y=y,\n",
        "            scoring=make_scorer(f1_score, average='micro'),\n",
        "            cv=StratifiedKFold(folds)\n",
        "        )\n",
        "        \n",
        "        print(type(classifier).__name__, \"%.4f\" % scores.mean())"
      ],
      "outputs": [],
      "execution_count": 17,
      "metadata": {
        "collapsed": false,
        "outputHidden": false,
        "inputHidden": false
      }
    },
    {
      "cell_type": "code",
      "source": [
        "cX, cy = make_classification(\n",
        "    n_samples=100,\n",
        "    n_features=10,\n",
        "    n_informative=5,\n",
        "    n_redundant=0,\n",
        "    n_classes=5,\n",
        "    weights=None,\n",
        "    hypercube=False,\n",
        "    random_state=state\n",
        ")\n",
        "\ncheck_classifiers(cX, cy)"
      ],
      "outputs": [
        {
          "output_type": "stream",
          "name": "stdout",
          "text": [
            "FlowMachine 0.2868\n",
            "LogisticRegression 0.3187\n",
            "LinearSVC 0.3187\n",
            "RandomForestClassifier 0.2176\n",
            "KNeighborsClassifier 0.3405\n"
          ]
        }
      ],
      "execution_count": 18,
      "metadata": {
        "collapsed": false,
        "outputHidden": false,
        "inputHidden": false
      }
    },
    {
      "cell_type": "code",
      "source": [
        "cX, cy = make_classification(\n",
        "    n_samples=2000,\n",
        "    n_features=50,\n",
        "    n_informative=50,\n",
        "    n_redundant=0,\n",
        "    n_classes=2,\n",
        "    weights=[.1],\n",
        "    hypercube=False,\n",
        "    random_state=state\n",
        ")\n",
        "\ncheck_classifiers(cX, cy)"
      ],
      "outputs": [
        {
          "output_type": "stream",
          "name": "stdout",
          "text": [
            "FlowMachine 0.9085\n",
            "LogisticRegression 0.9000\n",
            "LinearSVC 0.8890\n",
            "RandomForestClassifier 0.8935\n",
            "KNeighborsClassifier 0.9155\n"
          ]
        }
      ],
      "execution_count": 19,
      "metadata": {
        "collapsed": false,
        "outputHidden": false,
        "inputHidden": false
      }
    },
    {
      "cell_type": "code",
      "source": [
        "cX, cy = make_moons(\n",
        "    n_samples=500,\n",
        "    noise=.5,\n",
        "    random_state=state\n",
        ")\n",
        "\ncheck_classifiers(cX, cy)"
      ],
      "outputs": [
        {
          "output_type": "stream",
          "name": "stdout",
          "text": [
            "FlowMachine 0.8380\n",
            "LogisticRegression 0.8220\n",
            "LinearSVC 0.8220\n",
            "RandomForestClassifier 0.7820\n",
            "KNeighborsClassifier 0.8000\n"
          ]
        }
      ],
      "execution_count": 20,
      "metadata": {
        "collapsed": false,
        "outputHidden": false,
        "inputHidden": false
      }
    }
  ],
  "metadata": {
    "kernelspec": {
      "name": "python3",
      "language": "python",
      "display_name": "Python 3"
    },
    "kernel_info": {
      "name": "python3"
    },
    "language_info": {
      "name": "python",
      "version": "3.6.7",
      "mimetype": "text/x-python",
      "codemirror_mode": {
        "name": "ipython",
        "version": 3
      },
      "pygments_lexer": "ipython3",
      "nbconvert_exporter": "python",
      "file_extension": ".py"
    },
    "nteract": {
      "version": "0.3.4"
    }
  },
  "nbformat": 4,
  "nbformat_minor": 4
}