{
  "cells": [
    {
      "cell_type": "code",
      "source": [
        "import numpy as np\n",
        "import matplotlib.pyplot as plt\n",
        "import seaborn as sns\n",
        "\n",
        "sns.set_style('white')\n",
        "sns.set_color_codes('pastel')\n",
        "\n%matplotlib inline"
      ],
      "outputs": [],
      "execution_count": 1,
      "metadata": {
        "collapsed": false,
        "outputHidden": false,
        "inputHidden": false,
        "outputExpanded": false
      }
    },
    {
      "cell_type": "code",
      "source": [
        "from sklearn.metrics import r2_score, mean_absolute_error\n",
        "from sklearn.metrics import make_scorer, f1_score\n",
        "from sklearn.metrics import classification_report, confusion_matrix\n",
        "\n",
        "from sklearn.datasets import make_classification, make_regression\n",
        "from sklearn.datasets import load_boston, load_iris, make_moons\n",
        "\n",
        "from sklearn.linear_model import Ridge, LogisticRegression\n",
        "from sklearn.svm import LinearSVC, LinearSVR\n",
        "from sklearn.ensemble import RandomForestClassifier, RandomForestRegressor\n",
        "from sklearn.neighbors import KNeighborsClassifier, KNeighborsRegressor\n",
        "\n",
        "from sklearn.model_selection import train_test_split, cross_val_score\n",
        "from sklearn.model_selection import KFold, StratifiedKFold\n",
        "\n",
        "from sklearn.preprocessing import StandardScaler\n",
        "from sklearn.base import BaseEstimator\n",
        "\n",
        "from sklearn.linear_model import LinearRegression, LogisticRegression\n",
        "\n",
        "from sklearn.utils import shuffle\n",
        "from scipy.optimize import fmin_tnc\n",
        "\n",
        "import warnings\n",
        "warnings.filterwarnings('ignore')"
      ],
      "outputs": [],
      "execution_count": 2,
      "metadata": {
        "collapsed": false,
        "outputHidden": false,
        "inputHidden": false
      }
    },
    {
      "cell_type": "code",
      "source": [
        "class FlowMachine(BaseEstimator):\n",
        "    \n",
        "    def __init__(self, top=None, random_state=None):\n",
        "        self.norm = np.linalg.norm\n",
        "        self.top = top\n",
        "        self.random_state = random_state\n",
        "        \n",
        "    def choice(self, X, theta):\n",
        "        count = int(theta * len(X))\n",
        "        shuffled = shuffle(\n",
        "            X, random_state=self.random_state\n",
        "        )\n",
        "        return shuffled[:count]\n",
        "    \n",
        "    def unit(self, vector):\n",
        "        normed = self.norm(vector)\n",
        "        if not np.allclose(normed, 0):\n",
        "            return np.asarray(vector) / normed\n",
        "        return np.inf\n",
        "    \n",
        "    def construct(self, points):\n",
        "        dimension = len(points[0])\n",
        "        hyperplanes = []\n",
        "        distances = []\n",
        "        for index in range(len(points) - 1):\n",
        "            distances.append((\n",
        "                self.norm(points[index + 1] - points[index]),\n",
        "                points[index] # store original point\n",
        "            ))\n",
        "        distances = sorted(distances, key=lambda value: value[0])\n",
        "        for index in range(0, len(distances) - dimension):\n",
        "            total = np.asarray([\n",
        "                data[1] for data in distances[index:index+dimension]\n",
        "            ])\n",
        "            try:\n",
        "                normal = np.linalg.solve(\n",
        "                    total, np.ones(shape=(dimension, 1))\n",
        "                ).ravel()\n",
        "            except:\n",
        "                # skip singular matrices\n",
        "                continue\n",
        "            normal = self.unit(normal)\n",
        "            hyperplanes.append((\n",
        "                normal,\n",
        "                distances[index][1] # store one point of hyperplane\n",
        "            ))\n",
        "        return hyperplanes\n",
        "    \n",
        "    def distance(self, hyperplane, point):\n",
        "        return np.abs(np.dot((point - hyperplane[1]), hyperplane[0]))\n",
        "    \n",
        "    def compute(self, X, planes=None):\n",
        "        if planes is None:\n",
        "            planes = self.hyperplanes\n",
        "        vectors = []\n",
        "        for x in X:\n",
        "            vector = []\n",
        "            for plane in planes:\n",
        "                vector.append(self.distance(plane, x))\n",
        "            vectors.append(vector)\n",
        "        return np.asarray(vectors)\n",
        "    \n",
        "    def fit(self, X, y, cv=5):\n",
        "        def optimization(theta):\n",
        "            try:\n",
        "                chosen = self.choice(X, theta)\n",
        "                planes = self.construct(chosen)\n",
        "                points = self.compute(X, planes)\n",
        "                return cross_val_score(\n",
        "                    self.top, points, y, cv=cv\n",
        "                ).mean()\n",
        "            except:\n",
        "                return -np.inf            \n",
        "        \n",
        "        metric = -np.inf\n",
        "        self.theta = 0.5\n",
        "        for theta in np.linspace(0.1, 1, 20):\n",
        "            try:\n",
        "                current = optimization(theta)\n",
        "                if current > metric:\n",
        "                    self.theta = theta\n",
        "                    metric = current\n",
        "            except:                \n",
        "                pass # exactly\n",
        "        \n",
        "        self.hyperplanes = self.construct(self.choice(X, self.theta))\n",
        "        self.top.fit(self.compute(X), y)\n",
        "        return self\n",
        "    \n",
        "    def predict(self, X):\n",
        "        return self.top.predict(self.compute(X))\n",
        "    \n",
        "    def score(self, X, y):\n",
        "        return self.top.score(self.compute(X), y)"
      ],
      "outputs": [],
      "execution_count": 3,
      "metadata": {
        "collapsed": false,
        "outputHidden": false,
        "inputHidden": false,
        "outputExpanded": false
      }
    },
    {
      "cell_type": "code",
      "source": [
        "folds = 5\n",
        "state = 1"
      ],
      "outputs": [],
      "execution_count": 4,
      "metadata": {
        "collapsed": false,
        "outputHidden": false,
        "inputHidden": false
      }
    },
    {
      "cell_type": "code",
      "source": [
        "iris_data = load_iris()\n",
        "boston_data = load_boston()\n",
        "\n",
        "train_cX, test_cX, train_cy, test_cy = train_test_split(\n",
        "    iris_data.data,\n",
        "    iris_data.target,\n",
        "    test_size=0.3,\n",
        "    random_state=state\n",
        ")\n",
        "\n",
        "train_rX, test_rX, train_ry, test_ry = train_test_split(\n",
        "    boston_data.data,\n",
        "    boston_data.target,\n",
        "    test_size=0.3,\n",
        "    random_state=state\n",
        ")"
      ],
      "outputs": [],
      "execution_count": 5,
      "metadata": {
        "collapsed": false,
        "outputHidden": false,
        "inputHidden": false,
        "outputExpanded": false
      }
    },
    {
      "cell_type": "code",
      "source": [
        "%%time\n",
        "\n",
        "c_pred = FlowMachine(LogisticRegression(\n",
        "    solver='saga', multi_class='auto'\n",
        "), random_state=state).fit(\n",
        "    train_cX, train_cy\n",
        ").predict(test_cX)\n",
        "\n",
        "r_pred = FlowMachine(\n",
        "    LinearRegression(), random_state=state\n",
        ").fit(\n",
        "    train_rX, train_ry\n",
        ").predict(test_rX)"
      ],
      "outputs": [
        {
          "output_type": "stream",
          "name": "stdout",
          "text": [
            "Wall time: 4.13 s\n"
          ]
        }
      ],
      "execution_count": 6,
      "metadata": {
        "collapsed": false,
        "outputHidden": false,
        "inputHidden": false,
        "outputExpanded": false
      }
    },
    {
      "cell_type": "code",
      "source": [
        "%%time\n",
        "\n",
        "r_base = Ridge(random_state=state).fit(\n",
        "    train_rX, train_ry\n",
        ").predict(test_rX)\n",
        "\n",
        "c_base = LogisticRegression(\n",
        "    solver='lbfgs', multi_class='ovr', random_state=state\n",
        ").fit(\n",
        "    train_cX, train_cy\n",
        ").predict(test_cX)"
      ],
      "outputs": [
        {
          "output_type": "stream",
          "name": "stdout",
          "text": [
            "Wall time: 12 ms\n"
          ]
        }
      ],
      "execution_count": 7,
      "metadata": {
        "collapsed": false,
        "outputHidden": false,
        "inputHidden": false,
        "outputExpanded": false
      }
    },
    {
      "cell_type": "code",
      "source": [
        "print(\"Regression MAE: %.3f, R2: %.3f\" % (\n",
        "    mean_absolute_error(test_ry, r_pred),\n",
        "    r2_score(test_ry, r_pred)\n",
        "))\n",
        "\n",
        "print(\"Base MAE: %.3f, R2: %.3f\" % (\n",
        "    mean_absolute_error(test_ry, r_base),\n",
        "    r2_score(test_ry, r_base)\n",
        "))"
      ],
      "outputs": [
        {
          "output_type": "stream",
          "name": "stdout",
          "text": [
            "Regression MAE: 3.857, R2: 0.694\n",
            "Base MAE: 3.289, R2: 0.789\n"
          ]
        }
      ],
      "execution_count": 8,
      "metadata": {
        "collapsed": false,
        "outputHidden": false,
        "inputHidden": false,
        "outputExpanded": false
      }
    },
    {
      "cell_type": "code",
      "source": [
        "sns.distplot(test_ry);\n",
        "sns.distplot(r_pred);"
      ],
      "outputs": [
        {
          "output_type": "display_data",
          "data": {
            "text/plain": [
              "<matplotlib.figure.Figure at 0x1d331ce3198>"
            ],
            "image/png": "[encoded data removed]"
          },
          "metadata": {
            "needs_background": "light"
          }
        }
      ],
      "execution_count": 9,
      "metadata": {
        "collapsed": false,
        "outputHidden": false,
        "inputHidden": false,
        "outputExpanded": false
      }
    },
    {
      "cell_type": "code",
      "source": [
        "print(confusion_matrix(test_cy, c_pred))\n",
        "print(confusion_matrix(test_cy, c_base))"
      ],
      "outputs": [
        {
          "output_type": "stream",
          "name": "stdout",
          "text": [
            "[[14  0  0]\n",
            " [ 0 18  0]\n",
            " [ 0  0 13]]\n",
            "[[14  0  0]\n",
            " [ 0 13  5]\n",
            " [ 0  1 12]]\n"
          ]
        }
      ],
      "execution_count": 10,
      "metadata": {
        "collapsed": false,
        "outputHidden": false,
        "inputHidden": false,
        "outputExpanded": false
      }
    },
    {
      "cell_type": "code",
      "source": [
        "print(classification_report(test_cy, c_pred))\n",
        "print(classification_report(test_cy, c_base))"
      ],
      "outputs": [
        {
          "output_type": "stream",
          "name": "stdout",
          "text": [
            "              precision    recall  f1-score   support\n",
            "\n",
            "           0       1.00      1.00      1.00        14\n",
            "           1       1.00      1.00      1.00        18\n",
            "           2       1.00      1.00      1.00        13\n",
            "\n",
            "   micro avg       1.00      1.00      1.00        45\n",
            "   macro avg       1.00      1.00      1.00        45\n",
            "weighted avg       1.00      1.00      1.00        45\n",
            "\n",
            "              precision    recall  f1-score   support\n",
            "\n",
            "           0       1.00      1.00      1.00        14\n",
            "           1       0.93      0.72      0.81        18\n",
            "           2       0.71      0.92      0.80        13\n",
            "\n",
            "   micro avg       0.87      0.87      0.87        45\n",
            "   macro avg       0.88      0.88      0.87        45\n",
            "weighted avg       0.89      0.87      0.87        45\n",
            "\n"
          ]
        }
      ],
      "execution_count": 11,
      "metadata": {
        "collapsed": false,
        "outputHidden": false,
        "inputHidden": false,
        "outputExpanded": false
      }
    },
    {
      "cell_type": "markdown",
      "source": [
        "## Second part\n",
        "Synthetic datasets with cross-validation."
      ],
      "metadata": {}
    },
    {
      "cell_type": "code",
      "source": [
        "def check_regressors(X, y):\n",
        "    for regressor in [\n",
        "        FlowMachine(LinearRegression(), random_state=state),\n",
        "        Ridge(random_state=state),\n",
        "        LinearSVR(random_state=state),\n",
        "        RandomForestRegressor(random_state=state),\n",
        "        KNeighborsRegressor()\n",
        "    ]:\n",
        "        scores = cross_val_score(\n",
        "            regressor,\n",
        "            X=X, y=y,\n",
        "            cv=KFold(folds)\n",
        "        )\n",
        "        \n",
        "        print(type(regressor).__name__, \"%.4f\" % scores.mean())"
      ],
      "outputs": [],
      "execution_count": 12,
      "metadata": {
        "collapsed": false,
        "outputHidden": false,
        "inputHidden": false
      }
    },
    {
      "cell_type": "code",
      "source": [
        "rX, ry = make_regression(\n",
        "    n_samples=100,\n",
        "    n_features=2,\n",
        "    n_informative=1,\n",
        "    noise=5.,\n",
        "    random_state=state\n",
        ")\n",
        "\ncheck_regressors(rX, ry)"
      ],
      "outputs": [
        {
          "output_type": "stream",
          "name": "stdout",
          "text": [
            "FlowMachine 0.9136\n",
            "Ridge 0.9932\n",
            "LinearSVR 0.8439\n",
            "RandomForestRegressor 0.9752\n",
            "KNeighborsRegressor 0.9308\n"
          ]
        }
      ],
      "execution_count": 13,
      "metadata": {
        "collapsed": false,
        "outputHidden": false,
        "inputHidden": false
      }
    },
    {
      "cell_type": "code",
      "source": [
        "rX, ry = make_regression(\n",
        "    n_samples=300,\n",
        "    n_features=10,\n",
        "    n_informative=8,\n",
        "    noise=1.,\n",
        "    random_state=state\n",
        ")\n",
        "\ncheck_regressors(rX, ry)"
      ],
      "outputs": [
        {
          "output_type": "stream",
          "name": "stdout",
          "text": [
            "FlowMachine 0.5854\n",
            "Ridge 0.9999\n",
            "LinearSVR 0.9839\n",
            "RandomForestRegressor 0.6722\n",
            "KNeighborsRegressor 0.6902\n"
          ]
        }
      ],
      "execution_count": 14,
      "metadata": {
        "collapsed": false,
        "outputHidden": false,
        "inputHidden": false
      }
    },
    {
      "cell_type": "code",
      "source": [
        "rX, ry = make_regression(\n",
        "    n_samples=1000,\n",
        "    n_features=2,\n",
        "    n_informative=2,\n",
        "    noise=1.,\n",
        "    random_state=state\n",
        ")\n",
        "\n",
        "ry = np.sin(np.log(1 + ry**2))\n",
        "\ncheck_regressors(rX, ry)"
      ],
      "outputs": [
        {
          "output_type": "stream",
          "name": "stdout",
          "text": [
            "FlowMachine 0.7924\n",
            "Ridge -0.0160\n",
            "LinearSVR -0.0707\n",
            "RandomForestRegressor 0.8368\n",
            "KNeighborsRegressor 0.8307\n"
          ]
        }
      ],
      "execution_count": 15,
      "metadata": {
        "collapsed": false,
        "outputHidden": false,
        "inputHidden": false
      }
    },
    {
      "cell_type": "code",
      "source": [
        "def check_classifiers(X, y):\n",
        "    for classifier in [\n",
        "        FlowMachine(\n",
        "            LogisticRegression(solver='saga', multi_class='auto'),\n",
        "            random_state=state\n",
        "        ),\n",
        "        LogisticRegression(random_state=state),\n",
        "        LinearSVC(random_state=state),\n",
        "        RandomForestClassifier(random_state=state),\n",
        "        KNeighborsClassifier()\n",
        "    ]:\n",
        "        scores = cross_val_score(\n",
        "            classifier,\n",
        "            X=X, y=y,\n",
        "            scoring=make_scorer(f1_score, average='micro'),\n",
        "            cv=StratifiedKFold(folds)\n",
        "        )\n",
        "        \n",
        "        print(type(classifier).__name__, \"%.4f\" % scores.mean())"
      ],
      "outputs": [],
      "execution_count": 16,
      "metadata": {
        "collapsed": false,
        "outputHidden": false,
        "inputHidden": false
      }
    },
    {
      "cell_type": "code",
      "source": [
        "cX, cy = make_classification(\n",
        "    n_samples=1000,\n",
        "    n_features=10,\n",
        "    n_informative=5,\n",
        "    n_redundant=0,\n",
        "    n_classes=5,\n",
        "    weights=None,\n",
        "    hypercube=False,\n",
        "    random_state=state\n",
        ")\n",
        "\ncheck_classifiers(cX, cy)"
      ],
      "outputs": [
        {
          "output_type": "stream",
          "name": "stdout",
          "text": [
            "FlowMachine 0.5008\n",
            "LogisticRegression 0.3229\n",
            "LinearSVC 0.3210\n",
            "RandomForestClassifier 0.4031\n",
            "KNeighborsClassifier 0.4110\n"
          ]
        }
      ],
      "execution_count": 17,
      "metadata": {
        "collapsed": false,
        "outputHidden": false,
        "inputHidden": false
      }
    },
    {
      "cell_type": "code",
      "source": [
        "cX, cy = make_classification(\n",
        "    n_samples=1000,\n",
        "    n_features=5,\n",
        "    n_informative=5,\n",
        "    n_redundant=0,\n",
        "    n_classes=2,\n",
        "    weights=[.1],\n",
        "    hypercube=False,\n",
        "    random_state=state\n",
        ")\n",
        "\ncheck_classifiers(cX, cy)"
      ],
      "outputs": [
        {
          "output_type": "stream",
          "name": "stdout",
          "text": [
            "FlowMachine 0.9110\n",
            "LogisticRegression 0.9020\n",
            "LinearSVC 0.8980\n",
            "RandomForestClassifier 0.8980\n",
            "KNeighborsClassifier 0.9150\n"
          ]
        }
      ],
      "execution_count": 18,
      "metadata": {
        "collapsed": false,
        "outputHidden": false,
        "inputHidden": false
      }
    },
    {
      "cell_type": "code",
      "source": [
        "cX, cy = make_moons(\n",
        "    n_samples=1000,\n",
        "    noise=.5,\n",
        "    random_state=state\n",
        ")\n",
        "\ncheck_classifiers(cX, cy)"
      ],
      "outputs": [
        {
          "output_type": "stream",
          "name": "stdout",
          "text": [
            "FlowMachine 0.7930\n",
            "LogisticRegression 0.7800\n",
            "LinearSVC 0.7810\n",
            "RandomForestClassifier 0.7810\n",
            "KNeighborsClassifier 0.7850\n"
          ]
        }
      ],
      "execution_count": 19,
      "metadata": {
        "collapsed": false,
        "outputHidden": false,
        "inputHidden": false
      }
    }
  ],
  "metadata": {
    "kernelspec": {
      "name": "py35",
      "language": "python",
      "display_name": "py35"
    },
    "kernel_info": {
      "name": "py35"
    },
    "language_info": {
      "name": "python",
      "version": "3.6.6",
      "mimetype": "text/x-python",
      "codemirror_mode": {
        "name": "ipython",
        "version": 3
      },
      "pygments_lexer": "ipython3",
      "nbconvert_exporter": "python",
      "file_extension": ".py"
    },
    "nteract": {
      "version": "0.6.2"
    }
  },
  "nbformat": 4,
  "nbformat_minor": 4
}