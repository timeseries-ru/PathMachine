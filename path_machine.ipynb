{
  "cells": [
    {
      "cell_type": "code",
      "source": [
        "import numpy as np\n",
        "import matplotlib.pyplot as plt\n",
        "import seaborn as sns\n",
        "\n",
        "sns.set_style('white')\n",
        "sns.set_color_codes('pastel')\n",
        "\n%matplotlib inline"
      ],
      "outputs": [],
      "execution_count": 1,
      "metadata": {
        "collapsed": false,
        "outputHidden": false,
        "inputHidden": false,
        "outputExpanded": false
      }
    },
    {
      "cell_type": "code",
      "source": [
        "from sklearn.metrics import r2_score, mean_absolute_error\n",
        "from sklearn.metrics import make_scorer, f1_score\n",
        "from sklearn.metrics import classification_report, confusion_matrix\n",
        "\n",
        "from sklearn.datasets import make_classification, make_regression\n",
        "from sklearn.datasets import load_boston, load_iris, make_moons\n",
        "\n",
        "from sklearn.linear_model import Ridge, LogisticRegression\n",
        "from sklearn.svm import LinearSVC, LinearSVR\n",
        "from sklearn.ensemble import RandomForestClassifier, RandomForestRegressor\n",
        "from sklearn.neighbors import KNeighborsClassifier, KNeighborsRegressor\n",
        "\n",
        "from sklearn.model_selection import train_test_split, cross_val_score\n",
        "from sklearn.model_selection import KFold, StratifiedKFold\n",
        "from sklearn.base import BaseEstimator"
      ],
      "outputs": [],
      "execution_count": 2,
      "metadata": {
        "collapsed": false,
        "outputHidden": false,
        "inputHidden": false
      }
    },
    {
      "cell_type": "code",
      "source": [
        "class PathMachine(BaseEstimator):\n",
        "    \n",
        "    def __init__(self, norm=np.linalg.norm, classify=False):\n",
        "        self.norm = norm\n",
        "        self.classify = classify\n",
        "        \n",
        "    def find_start(self, X):\n",
        "        index_max = None\n",
        "        value_max = -np.inf\n",
        "        for index, x in enumerate(X):\n",
        "            value = self.norm(x)\n",
        "            if value > value_max:\n",
        "                index_max = index\n",
        "                value_max = value\n",
        "        return index_max\n",
        "    \n",
        "    def find_next(self, point, target, X, y):\n",
        "        index_min = None\n",
        "        value_min = np.inf\n",
        "        for index, x in enumerate(X):\n",
        "            if self.classify and (y[index] != target):\n",
        "               continue\n",
        "            value = self.norm(x - point)\n",
        "            if value < value_min:\n",
        "                index_min = index\n",
        "                value_min = value\n",
        "        return index_min\n",
        "    \n",
        "    def fit(self, X, y):\n",
        "        X = np.copy(X)\n",
        "        y = np.copy(y).flatten()\n",
        "        \n",
        "        self.paths = {} if self.classify else []\n",
        "        \n",
        "        start_index = self.find_start(X)\n",
        "        start_value = X[start_index]\n",
        "        start_target = y[start_index]\n",
        "        \n",
        "        X = np.delete(X, start_index, axis=0)\n",
        "        y = np.delete(y, start_index, axis=0)\n",
        "        \n",
        "        while len(X) > 0:\n",
        "            next_index = self.find_next(start_value, start_target, X, y)\n",
        "            if self.classify and next_index is None:\n",
        "                start_index = self.find_start(X)\n",
        "                start_value = X[start_index]\n",
        "                start_target = y[start_index]\n",
        "                continue\n",
        "            next_target = y[next_index]\n",
        "            \n",
        "            if self.classify:\n",
        "                if not next_target in self.paths:\n",
        "                    self.paths[next_target] = []\n",
        "                self.paths[next_target].append({\n",
        "                    'start': start_value,\n",
        "                    'next': X[next_index]\n",
        "                })\n",
        "            else:\n",
        "                self.paths.append({\n",
        "                    'start': start_value,\n",
        "                    'next': X[next_index],\n",
        "                    'value': start_target,\n",
        "                    'target': next_target\n",
        "                })\n",
        "                \n",
        "            start_value = X[next_index]\n",
        "            start_target = y[next_index]\n",
        "            \n",
        "            X = np.delete(X, next_index, axis=0)\n",
        "            y = np.delete(y, next_index, axis=0)\n",
        "            \n",
        "        return self\n",
        "    \n",
        "    def predict(self, X):\n",
        "        result = []\n",
        "        \n",
        "        for x in X:\n",
        "            if self.classify:\n",
        "                predicted = None\n",
        "                min_distance = np.inf\n",
        "                for target in self.paths:\n",
        "                    for path in self.paths[target]:\n",
        "                        point = x - path['start']\n",
        "                        line = path['next'] - path['start']\n",
        "                        if np.allclose(self.norm(line), 0):\n",
        "                            continue\n",
        "                        direction = line / self.norm(line)\n",
        "                        product = np.dot(point, direction)\n",
        "                        projection = product * direction\n",
        "                        \n",
        "                        distance = self.norm(projection - point)\n",
        "                        if distance < min_distance:\n",
        "                            predicted = target\n",
        "                            min_distance = distance\n",
        "                result.append(predicted)\n",
        "            else:\n",
        "                predicted = None\n",
        "                min_distance = np.inf\n",
        "                for path in self.paths:\n",
        "                    point = x - path['start']\n",
        "                    line = path['next'] - path['start']\n",
        "                    if np.allclose(self.norm(line), 0):\n",
        "                            continue\n",
        "                    direction = line / self.norm(line)\n",
        "                    product = np.dot(point, direction)\n",
        "                    projection = product * direction\n",
        "                    parameter = np.sign(product) * self.norm(projection) /\\\n",
        "                               self.norm(line)\n",
        "                    \n",
        "                    distance = self.norm(projection - point)\n",
        "                    if distance < min_distance:\n",
        "                        predicted = (1 - parameter) * path['value'] +\\\n",
        "                                   parameter * path['target']\n",
        "                        min_distance = distance\n",
        "                result.append(predicted)\n",
        "        \n",
        "        return np.array(result)\n",
        "    \n",
        "    def score(self, X, y):\n",
        "        if self.classify:\n",
        "            return f1_score(y.flatten(), self.predict(X), average='micro')\n",
        "        else:\n",
        "            return r2_score(y.flatten(), self.predict(X))"
      ],
      "outputs": [],
      "execution_count": 3,
      "metadata": {
        "collapsed": false,
        "outputHidden": false,
        "inputHidden": false,
        "outputExpanded": false
      }
    },
    {
      "cell_type": "code",
      "source": [
        "folds = 5\n",
        "state = 1"
      ],
      "outputs": [],
      "execution_count": 4,
      "metadata": {
        "collapsed": false,
        "outputHidden": false,
        "inputHidden": false
      }
    },
    {
      "cell_type": "code",
      "source": [
        "iris_data = load_iris()\n",
        "boston_data = load_boston()\n",
        "\n",
        "train_cX, test_cX, train_cy, test_cy = train_test_split(\n",
        "    iris_data.data,\n",
        "    iris_data.target,\n",
        "    test_size=0.3,\n",
        "    random_state=state\n",
        ")\n",
        "\n",
        "train_rX, test_rX, train_ry, test_ry = train_test_split(\n",
        "    boston_data.data,\n",
        "    boston_data.target,\n",
        "    test_size=0.3,\n",
        "    random_state=state\n",
        ")"
      ],
      "outputs": [],
      "execution_count": 5,
      "metadata": {
        "collapsed": false,
        "outputHidden": false,
        "inputHidden": false,
        "outputExpanded": false
      }
    },
    {
      "cell_type": "code",
      "source": [
        "squared_norm = lambda vector: np.sqrt(np.sum(vector**2, axis=0))\n",
        "absolute_norm = lambda vector: np.sum(np.abs(vector))"
      ],
      "outputs": [],
      "execution_count": 6,
      "metadata": {
        "collapsed": false,
        "outputHidden": false,
        "inputHidden": false
      }
    },
    {
      "cell_type": "code",
      "source": [
        "%%time\n",
        "\n",
        "c_pred = PathMachine(absolute_norm, classify=True).fit(\n",
        "    train_cX, train_cy\n",
        ").predict(test_cX)\n",
        "\n",
        "r_pred = PathMachine(absolute_norm).fit(\n",
        "    train_rX, train_ry\n",
        ").predict(test_rX)"
      ],
      "outputs": [
        {
          "output_type": "stream",
          "name": "stdout",
          "text": [
            "CPU times: user 12.4 s, sys: 92 ms, total: 12.4 s\n",
            "Wall time: 13.1 s\n"
          ]
        }
      ],
      "execution_count": 7,
      "metadata": {
        "collapsed": false,
        "outputHidden": false,
        "inputHidden": false,
        "outputExpanded": false
      }
    },
    {
      "cell_type": "code",
      "source": [
        "%%time\n",
        "\n",
        "r_base = Ridge(random_state=state).fit(\n",
        "    train_rX, train_ry\n",
        ").predict(test_rX)\n",
        "\n",
        "c_base = LogisticRegression(random_state=state).fit(\n",
        "    train_cX, train_cy\n",
        ").predict(test_cX)"
      ],
      "outputs": [
        {
          "output_type": "stream",
          "name": "stdout",
          "text": [
            "CPU times: user 8 ms, sys: 0 ns, total: 8 ms\n",
            "Wall time: 401 ms\n"
          ]
        }
      ],
      "execution_count": 8,
      "metadata": {
        "collapsed": false,
        "outputHidden": false,
        "inputHidden": false,
        "outputExpanded": false
      }
    },
    {
      "cell_type": "code",
      "source": [
        "print(\"Regression MAE: %.3f, R2: %.3f\" % (\n",
        "    mean_absolute_error(test_ry, r_pred),\n",
        "    r2_score(test_ry, r_pred)\n",
        "))\n",
        "\n",
        "print(\"Base MAE: %.3f, R2: %.3f\" % (\n",
        "    mean_absolute_error(test_ry, r_base),\n",
        "    r2_score(test_ry, r_base)\n",
        "))"
      ],
      "outputs": [
        {
          "output_type": "stream",
          "name": "stdout",
          "text": [
            "Regression MAE: 4.572, R2: 0.447\n",
            "Base MAE: 3.287, R2: 0.789\n"
          ]
        }
      ],
      "execution_count": 9,
      "metadata": {
        "collapsed": false,
        "outputHidden": false,
        "inputHidden": false,
        "outputExpanded": false
      }
    },
    {
      "cell_type": "code",
      "source": [
        "sns.distplot(test_ry);\n",
        "sns.distplot(r_pred);"
      ],
      "outputs": [
        {
          "output_type": "display_data",
          "data": {
            "text/plain": [
              "<Figure size 432x288 with 1 Axes>"
            ],
            "image/png": "[encoded data removed]"
          },
          "metadata": {}
        }
      ],
      "execution_count": 10,
      "metadata": {
        "collapsed": false,
        "outputHidden": false,
        "inputHidden": false,
        "outputExpanded": false
      }
    },
    {
      "cell_type": "code",
      "source": [
        "print(confusion_matrix(test_cy, c_pred))\n",
        "print(confusion_matrix(test_cy, c_base))"
      ],
      "outputs": [
        {
          "output_type": "stream",
          "name": "stdout",
          "text": [
            "[[14  0  0]\n",
            " [ 0 18  0]\n",
            " [ 0  1 12]]\n",
            "[[14  0  0]\n",
            " [ 0 13  5]\n",
            " [ 0  0 13]]\n"
          ]
        }
      ],
      "execution_count": 11,
      "metadata": {
        "collapsed": false,
        "outputHidden": false,
        "inputHidden": false,
        "outputExpanded": false
      }
    },
    {
      "cell_type": "code",
      "source": [
        "print(classification_report(test_cy, c_pred))\n",
        "print(classification_report(test_cy, c_base))"
      ],
      "outputs": [
        {
          "output_type": "stream",
          "name": "stdout",
          "text": [
            "             precision    recall  f1-score   support\n",
            "\n",
            "          0       1.00      1.00      1.00        14\n",
            "          1       0.95      1.00      0.97        18\n",
            "          2       1.00      0.92      0.96        13\n",
            "\n",
            "avg / total       0.98      0.98      0.98        45\n",
            "\n",
            "             precision    recall  f1-score   support\n",
            "\n",
            "          0       1.00      1.00      1.00        14\n",
            "          1       1.00      0.72      0.84        18\n",
            "          2       0.72      1.00      0.84        13\n",
            "\n",
            "avg / total       0.92      0.89      0.89        45\n",
            "\n"
          ]
        }
      ],
      "execution_count": 12,
      "metadata": {
        "collapsed": false,
        "outputHidden": false,
        "inputHidden": false,
        "outputExpanded": false
      }
    },
    {
      "cell_type": "markdown",
      "source": [
        "## Вторая часть марлезонского балета.\n",
        "Проверка на искусственных датасетах с кроссвалидацией."
      ],
      "metadata": {}
    },
    {
      "cell_type": "code",
      "source": [
        "def check_regressors(X, y, norm=squared_norm):\n",
        "    for regressor in [\n",
        "        PathMachine(norm=norm),\n",
        "        Ridge(random_state=state),\n",
        "        LinearSVR(random_state=state),\n",
        "        RandomForestRegressor(random_state=state),\n",
        "        KNeighborsRegressor()\n",
        "    ]:\n",
        "        scores = cross_val_score(\n",
        "            regressor,\n",
        "            X=X, y=y,\n",
        "            cv=KFold(folds)\n",
        "        )\n",
        "        \n",
        "        print(type(regressor).__name__, \"%.4f\" % scores.mean())"
      ],
      "outputs": [],
      "execution_count": 13,
      "metadata": {
        "collapsed": false,
        "outputHidden": false,
        "inputHidden": false
      }
    },
    {
      "cell_type": "code",
      "source": [
        "rX, ry = make_regression(\n",
        "    n_samples=100,\n",
        "    n_features=10,\n",
        "    n_informative=5,\n",
        "    noise=0.,\n",
        "    random_state=state\n",
        ")\n",
        "\ncheck_regressors(rX, ry)"
      ],
      "outputs": [
        {
          "output_type": "stream",
          "name": "stdout",
          "text": [
            "PathMachine 0.3394\n",
            "Ridge 0.9996\n",
            "LinearSVR 0.6572\n",
            "RandomForestRegressor 0.5490\n",
            "KNeighborsRegressor 0.5586\n"
          ]
        }
      ],
      "execution_count": 14,
      "metadata": {
        "collapsed": false,
        "outputHidden": false,
        "inputHidden": false
      }
    },
    {
      "cell_type": "code",
      "source": [
        "rX, ry = make_regression(\n",
        "    n_samples=100,\n",
        "    n_features=3,\n",
        "    n_informative=2,\n",
        "    noise=1.,\n",
        "    random_state=state\n",
        ")\n",
        "\ncheck_regressors(rX, ry)"
      ],
      "outputs": [
        {
          "output_type": "stream",
          "name": "stdout",
          "text": [
            "PathMachine 0.9731\n",
            "Ridge 0.9994\n",
            "LinearSVR 0.9373\n",
            "RandomForestRegressor 0.8773\n",
            "KNeighborsRegressor 0.8397\n"
          ]
        }
      ],
      "execution_count": 15,
      "metadata": {
        "collapsed": false,
        "outputHidden": false,
        "inputHidden": false
      }
    },
    {
      "cell_type": "code",
      "source": [
        "rX, ry = make_regression(\n",
        "    n_samples=100,\n",
        "    n_features=1,\n",
        "    n_informative=1,\n",
        "    noise=2.,\n",
        "    random_state=state\n",
        ")\n",
        "\n",
        "ry = np.log(1 + ry**2)\n",
        "\ncheck_regressors(rX, ry, norm=lambda vector: np.sqrt(absolute_norm(vector)))"
      ],
      "outputs": [
        {
          "output_type": "stream",
          "name": "stdout",
          "text": [
            "PathMachine 0.9711\n",
            "Ridge -0.0673\n",
            "LinearSVR -0.3226\n",
            "RandomForestRegressor 0.9759\n",
            "KNeighborsRegressor 0.9738\n"
          ]
        }
      ],
      "execution_count": 16,
      "metadata": {
        "collapsed": false,
        "outputHidden": false,
        "inputHidden": false
      }
    },
    {
      "cell_type": "code",
      "source": [
        "def check_classifiers(X, y, norm=squared_norm):\n",
        "    for classifier in [\n",
        "        PathMachine(norm=norm, classify=True),\n",
        "        LogisticRegression(random_state=state),\n",
        "        LinearSVC(random_state=state),\n",
        "        RandomForestClassifier(random_state=state),\n",
        "        KNeighborsClassifier()\n",
        "    ]:\n",
        "        scores = cross_val_score(\n",
        "            classifier,\n",
        "            X=X, y=y,\n",
        "            scoring=make_scorer(f1_score, average='micro'),\n",
        "            cv=StratifiedKFold(folds)\n",
        "        )\n",
        "        \n",
        "        print(type(classifier).__name__, \"%.4f\" % scores.mean())"
      ],
      "outputs": [],
      "execution_count": 17,
      "metadata": {
        "collapsed": false,
        "outputHidden": false,
        "inputHidden": false
      }
    },
    {
      "cell_type": "code",
      "source": [
        "cX, cy = make_classification(\n",
        "    n_samples=100,\n",
        "    n_features=10,\n",
        "    n_informative=5,\n",
        "    n_redundant=0,\n",
        "    n_classes=5,\n",
        "    weights=None,\n",
        "    hypercube=False,\n",
        "    random_state=state\n",
        ")\n",
        "\ncheck_classifiers(cX, cy)"
      ],
      "outputs": [
        {
          "output_type": "stream",
          "name": "stdout",
          "text": [
            "PathMachine 0.4166\n",
            "LogisticRegression 0.3187\n",
            "LinearSVC 0.3187\n",
            "RandomForestClassifier 0.2176\n",
            "KNeighborsClassifier 0.3405\n"
          ]
        }
      ],
      "execution_count": 18,
      "metadata": {
        "collapsed": false,
        "outputHidden": false,
        "inputHidden": false
      }
    },
    {
      "cell_type": "code",
      "source": [
        "cX, cy = make_classification(\n",
        "    n_samples=100,\n",
        "    n_features=100,\n",
        "    n_informative=50,\n",
        "    n_redundant=50,\n",
        "    n_classes=2,\n",
        "    weights=[.1],\n",
        "    hypercube=False,\n",
        "    random_state=state\n",
        ")\n",
        "\ncheck_classifiers(cX, cy, norm=absolute_norm)"
      ],
      "outputs": [
        {
          "output_type": "stream",
          "name": "stdout",
          "text": [
            "PathMachine 0.8488\n",
            "LogisticRegression 0.6086\n",
            "LinearSVC 0.6496\n",
            "RandomForestClassifier 0.8604\n",
            "KNeighborsClassifier 0.8904\n"
          ]
        }
      ],
      "execution_count": 19,
      "metadata": {
        "collapsed": false,
        "outputHidden": false,
        "inputHidden": false
      }
    },
    {
      "cell_type": "code",
      "source": [
        "cX, cy = make_moons(\n",
        "    n_samples=100,\n",
        "    noise=.0,\n",
        "    random_state=state\n",
        ")\n",
        "\ncheck_classifiers(cX, cy, norm=absolute_norm)"
      ],
      "outputs": [
        {
          "output_type": "stream",
          "name": "stdout",
          "text": [
            "PathMachine 1.0000\n",
            "LogisticRegression 0.8500\n",
            "LinearSVC 0.8600\n",
            "RandomForestClassifier 0.9800\n",
            "KNeighborsClassifier 1.0000\n"
          ]
        }
      ],
      "execution_count": 20,
      "metadata": {
        "collapsed": false,
        "outputHidden": false,
        "inputHidden": false
      }
    }
  ],
  "metadata": {
    "kernelspec": {
      "name": "python3",
      "language": "python",
      "display_name": "Python 3"
    },
    "kernel_info": {
      "name": "python3"
    },
    "language_info": {
      "pygments_lexer": "ipython3",
      "file_extension": ".py",
      "name": "python",
      "version": "3.5.3",
      "codemirror_mode": {
        "version": 3,
        "name": "ipython"
      },
      "mimetype": "text/x-python",
      "nbconvert_exporter": "python"
    },
    "nteract": {
      "version": "0.3.4"
    }
  },
  "nbformat": 4,
  "nbformat_minor": 4
}